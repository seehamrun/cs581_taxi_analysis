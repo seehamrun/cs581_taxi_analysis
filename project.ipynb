{
 "cells": [
  {
   "cell_type": "code",
   "execution_count": 2,
   "metadata": {},
   "outputs": [],
   "source": [
    "import pandas as pd\n",
    "import numpy as np\n",
    "import matplotlib\n",
    "import matplotlib.pyplot as plt\n",
    "from datetime import timedelta\n",
    "from datetime import datetime\n",
    "from datetime import datetime\n",
    "import networkx as nx"
   ]
  },
  {
   "cell_type": "code",
   "execution_count": 3,
   "metadata": {},
   "outputs": [],
   "source": [
    "trips_may = pd.read_csv('yellow_tripdata_2016-05.csv')\n",
    "trips_june = pd.read_csv('yellow_tripdata_2016-06.csv')\n",
    "trips = pd.concat([trips_may, trips_june])"
   ]
  },
  {
   "cell_type": "code",
   "execution_count": 4,
   "metadata": {},
   "outputs": [],
   "source": [
    "# Filter trips: only consider trips with 0 < distance < 100\n",
    "trips = trips.loc[(trips['trip_distance'] > 0.0) & (trips['trip_distance'] < 100.0), :]"
   ]
  },
  {
   "cell_type": "code",
   "execution_count": 5,
   "metadata": {},
   "outputs": [],
   "source": [
    "# Function to calculate distance between drop off points of 2 trips\n",
    "def distanceTwoDPO(trip1, trip2):\n",
    "    pku_long_rad = trip1.dropoff_longitude*np.pi/180\n",
    "    pku_lat_rad = trip1.dropoff_latitude*np.pi/180\n",
    "    dpo_long_rad = trip2.dropoff_longitude*np.pi/180\n",
    "    dpo_lat_rad = trip2.dropoff_latitude*np.pi/180\n",
    "    drad = 2*np.arcsin(np.sqrt(np.sin((pku_lat_rad-dpo_lat_rad)/2)*np.sin((pku_lat_rad-dpo_lat_rad)/2)+np.cos(pku_lat_rad)*np.cos(dpo_lat_rad)*np.sin((pku_long_rad-dpo_long_rad)/2)*np.sin((pku_long_rad-dpo_long_rad)/2)))\n",
    "    dmile = drad*180*60*1.15/np.pi\n",
    "    return dmile"
   ]
  },
  {
   "cell_type": "code",
   "execution_count": 6,
   "metadata": {},
   "outputs": [],
   "source": [
    "# Function to calculate Euclidean distance from pickup point to dropoff point of 1 trip\n",
    "def distance(df):\n",
    "    pku_long_rad = df['pickup_longitude']*np.pi/180\n",
    "    pku_lat_rad = df['pickup_latitude']*np.pi/180\n",
    "    dpo_long_rad = df['dropoff_longitude']*np.pi/180\n",
    "    dpo_lat_rad = df['dropoff_latitude']*np.pi/180\n",
    "    drad = 2*np.arcsin(np.sqrt(np.sin((pku_lat_rad-dpo_lat_rad)/2)*np.sin((pku_lat_rad-dpo_lat_rad)/2)+np.cos(pku_lat_rad)*np.cos(dpo_lat_rad)*np.sin((pku_long_rad-dpo_long_rad)/2)*np.sin((pku_long_rad-dpo_long_rad)/2)))\n",
    "    dmile = drad*180*60*1.15/np.pi\n",
    "    return df.assign(distance=dmile)"
   ]
  },
  {
   "cell_type": "code",
   "execution_count": 7,
   "metadata": {},
   "outputs": [],
   "source": [
    "# Create new column in DataFrame named distance\n",
    "trips = trips.pipe(distance)"
   ]
  },
  {
   "cell_type": "code",
   "execution_count": 8,
   "metadata": {},
   "outputs": [],
   "source": [
    "# Only consider trips with Euclidean distance in range (0, 100)\n",
    "trips = trips.loc[(trips['distance'] > 0.0) & (trips['distance'] < 100.0), :]"
   ]
  },
  {
   "cell_type": "code",
   "execution_count": 9,
   "metadata": {},
   "outputs": [],
   "source": [
    "# Calculate distance ratio = trip distance / Euclidean distance\n",
    "trips['distance_ratio'] = trips['trip_distance']/trips['distance']"
   ]
  },
  {
   "cell_type": "code",
   "execution_count": 10,
   "metadata": {},
   "outputs": [],
   "source": [
    "# Only consider trips with distance ratio in range (0, 100)\n",
    "trips = trips.loc[(trips['distance_ratio'] > 0.0) & (trips['distance_ratio'] < 100.0), :]"
   ]
  },
  {
   "cell_type": "code",
   "execution_count": 11,
   "metadata": {},
   "outputs": [],
   "source": [
    "# Convert pickup and dropoff datetime to datetime type\n",
    "trips['pku_time'] = pd.to_datetime(trips['tpep_pickup_datetime'], infer_datetime_format=True)\n",
    "trips['dpo_time'] = pd.to_datetime(trips['tpep_dropoff_datetime'], infer_datetime_format=True)"
   ]
  },
  {
   "cell_type": "code",
   "execution_count": 12,
   "metadata": {},
   "outputs": [],
   "source": [
    "trips = trips[['trip_distance', 'pickup_longitude', 'pickup_latitude', 'dropoff_longitude', 'dropoff_latitude', 'distance', 'distance_ratio', 'pku_time', 'dpo_time']]"
   ]
  },
  {
   "cell_type": "code",
   "execution_count": 13,
   "metadata": {},
   "outputs": [],
   "source": [
    "trips = trips.loc[(trips['dpo_time']-trips['pku_time'])/timedelta(seconds=1) > 0.0, :]"
   ]
  },
  {
   "cell_type": "code",
   "execution_count": 14,
   "metadata": {},
   "outputs": [],
   "source": [
    "# Calculate average speed of a trip\n",
    "trips['avg_speed'] = trips['trip_distance']/((trips['dpo_time']-trips['pku_time'])/timedelta(seconds=1)/3600)"
   ]
  },
  {
   "cell_type": "code",
   "execution_count": 15,
   "metadata": {},
   "outputs": [],
   "source": [
    "# Only consider trips with average speed smaller than 100mph\n",
    "trips = trips.loc[trips['avg_speed'] < 100.0, :]"
   ]
  },
  {
   "cell_type": "code",
   "execution_count": 16,
   "metadata": {},
   "outputs": [],
   "source": [
    "# LGA coordinate\n",
    "lga_long = -73.8702298524\n",
    "lga_lat = 40.7730135746\n",
    "lga_long_rad = lga_long*np.pi/180\n",
    "lga_lat_rad = lga_lat*np.pi/180"
   ]
  },
  {
   "cell_type": "code",
   "execution_count": 17,
   "metadata": {
    "scrolled": true
   },
   "outputs": [],
   "source": [
    "# Function to calculate distance between pickup point and LGA position\n",
    "def distanceToLGA_PKU(df):\n",
    "    long_rad = df['pickup_longitude']*np.pi/180\n",
    "    lat_rad = df['pickup_latitude']*np.pi/180\n",
    "    drad = 2*np.arcsin(np.sqrt(np.sin((lat_rad-lga_lat_rad)/2)*np.sin((lat_rad-lga_lat_rad)/2)+np.cos(lat_rad)*np.cos(lga_lat_rad)*np.sin((long_rad-lga_long_rad)/2)*np.sin((long_rad-lga_long_rad)/2)))\n",
    "    dmile = drad*180*60*1.15/np.pi\n",
    "    return df.assign(pku_LGA=dmile)"
   ]
  },
  {
   "cell_type": "code",
   "execution_count": 18,
   "metadata": {
    "scrolled": true
   },
   "outputs": [],
   "source": [
    "# Function to calculate distance between dropoff point and LGA position\n",
    "def distanceToLGA_DPO(df):\n",
    "    long_rad = df['dropoff_longitude']*np.pi/180\n",
    "    lat_rad = df['dropoff_latitude']*np.pi/180\n",
    "    drad = 2*np.arcsin(np.sqrt(np.sin((lat_rad-lga_lat_rad)/2)*np.sin((lat_rad-lga_lat_rad)/2)+np.cos(lat_rad)*np.cos(lga_lat_rad)*np.sin((long_rad-lga_long_rad)/2)*np.sin((long_rad-lga_long_rad)/2)))\n",
    "    dmile = drad*180*60*1.15/np.pi\n",
    "    return df.assign(dpo_LGA=dmile)"
   ]
  },
  {
   "cell_type": "code",
   "execution_count": 19,
   "metadata": {
    "scrolled": true
   },
   "outputs": [],
   "source": [
    "lga_long = -73.8702298524\n",
    "lga_lat = 40.7730135746"
   ]
  },
  {
   "cell_type": "code",
   "execution_count": 20,
   "metadata": {},
   "outputs": [],
   "source": [
    "lga_long_rad = lga_long*np.pi/180\n",
    "lga_lat_rad = lga_lat*np.pi/180"
   ]
  },
  {
   "cell_type": "code",
   "execution_count": 21,
   "metadata": {},
   "outputs": [],
   "source": [
    "# New column: distance from pickup point to LGA\n",
    "trips = trips.pipe(distanceToLGA_PKU)"
   ]
  },
  {
   "cell_type": "code",
   "execution_count": 22,
   "metadata": {},
   "outputs": [],
   "source": [
    "# New column: distance from drop off point to LGA\n",
    "trips = trips.pipe(distanceToLGA_DPO)"
   ]
  },
  {
   "cell_type": "code",
   "execution_count": 23,
   "metadata": {},
   "outputs": [],
   "source": [
    "# Trips from LGA: pickup point within 1 mile range from LGA, and dropoff point outside 1 mile range of LGA\n",
    "# Pickup time in range [May 17 2016 00:00, May 18 2016 00:00)\n",
    "#trips_fromLGA = trips.loc[(trips['pku_LGA'] <= 1.0) & (trips['dpo_LGA'] > 1.0) & (trips['pku_time'] >= datetime(2016,5,17,0,0,0)) & (trips['pku_time'] < datetime(2016,5,18,0,0,0)), :]"
   ]
  },
  {
   "cell_type": "code",
   "execution_count": 24,
   "metadata": {},
   "outputs": [],
   "source": [
    "# Create new graph\n",
    "G = nx.Graph()"
   ]
  },
  {
   "cell_type": "code",
   "execution_count": 26,
   "metadata": {},
   "outputs": [],
   "source": [
    "def build_graph_fromLGA(month, date):\n",
    "    # Trips from LGA: pickup point within 1 mile range from LGA, and dropoff point outside 1 mile range of LGA\n",
    "# Pickup time in range [May 17 2016 00:00, May 18 2016 00:00)\n",
    "    trips_fromLGA = trips.loc[(trips['pku_LGA'] <= 1.0) & (trips['dpo_LGA'] > 1.0) & (trips['pku_time'] >= datetime(2016,month,date,0,0,0)) & (trips['pku_time'] < datetime(2016,month,date+1,0,0,0)), :]\n",
    "    startTime = datetime(2016,month,date,0,0,0)\n",
    "    # pool window: 5minute\n",
    "    delta = timedelta(minutes=5)\n",
    "    # array to store % miles saved for each pool\n",
    "    milesaves = []\n",
    "    # array to store % trips saved for each pool\n",
    "    tripsaves = []\n",
    "    # array to store average computing time for each pool\n",
    "    computetimes = []\n",
    "    # get time when start running\n",
    "    start = datetime.now()\n",
    "    for k in range(0, 288):\n",
    "    #     get current time\n",
    "        current = datetime.now()\n",
    "    #     if pass 5 minutes, exit for loop\n",
    "        if ((current-start)/timedelta(seconds=1)>300):\n",
    "            break\n",
    "    #   get pool for 5 minute window\n",
    "        pool = trips_fromLGA.loc[(trips_fromLGA['pku_time'] >= startTime + k*delta) & (trips_fromLGA['pku_time'] < startTime + (k+1)*delta),:]\n",
    "    #   if there are trips in pool\n",
    "        if (len(pool) > 0):\n",
    "    #       Clear graph\n",
    "            G.clear()\n",
    "    #       Add nodes to graph\n",
    "            for n in range(len(pool)):\n",
    "                G.add_node(n)\n",
    "            saving = 0.0\n",
    "            starttime = datetime.now()\n",
    "            for i in range(len(pool) - 1):\n",
    "                for j in range(i+1, len(pool)):\n",
    "                    #               Calculate Euclidean distance between 2 dropoff points of 2 trips\n",
    "#               Then multiplied by mean value of distance ratio\n",
    "                    d = distanceTwoDPO(pool.iloc[i], pool.iloc[j])*1.6389485777\n",
    "    #               Check if miles can be saved\n",
    "                    if (d < pool.iloc[i].trip_distance) or (d < pool.iloc[j].trip_distance):\n",
    "    #                   Calculate traveling time from Hub to A\n",
    "                        tHA = (pool.iloc[i].dpo_time - pool.iloc[i].pku_time)/timedelta(seconds=1)\n",
    "    #                   Calculate traveling time from Hub to B\n",
    "                        tHB = (pool.iloc[j].dpo_time - pool.iloc[j].pku_time)/timedelta(seconds=1)\n",
    "    #                   Calculate delay tolerance of trip HA\n",
    "                        delayA = tHA * 0.2\n",
    "    #                   Calculate delay tolerance of trip HB\n",
    "                        delayB = tHB * 0.2\n",
    "    #                   Calculate average speed of 2 trips\n",
    "                        avgSpeed = (pool.iloc[i].avg_speed + pool.iloc[j].avg_speed)/2.0\n",
    "    #                   Calculate time to travel from A to B, or from B to A\n",
    "                        tAB = d * 3600 / avgSpeed\n",
    "    #                   If 2 trips are sharable, add edge to graph\n",
    "                        if (tHA + tAB <= tHB + delayB) or (tHB + tAB <= tHA + delayA):\n",
    "                            saved = pool.iloc[i].trip_distance + pool.iloc[j].trip_distance - d\n",
    "                            G.add_edge(i, j, weight=saved)\n",
    "    #       Call the maximum matching on the graph\n",
    "            matching = nx.algorithms.matching.max_weight_matching(G, maxcardinality=False, weight='weight')\n",
    "            endtime = datetime.now()\n",
    "    #       Calculate the total miles saved of each pool\n",
    "            for m in matching:\n",
    "                saving = saving + G.edges[m[0], m[1]]['weight']\n",
    "    #       Add result to arrays\n",
    "            milesaves.append(saving/pool['trip_distance'].sum())\n",
    "            tripsaves.append(len(matching)/len(pool))\n",
    "            computetimes.append((endtime-starttime)/timedelta(seconds=1))\n",
    "    print(\"The number of pools get processed in 5 minutes: \", len(milesaves))\n",
    "        # Average percent of trips saved per pool\n",
    "    valid = []\n",
    "    for trip in tripsaves:\n",
    "        if trip > 0:\n",
    "            valid.append(trip)\n",
    "    print(\"Average percent of trips saved per pool: \", np.average(valid)*100)\n",
    "    "
   ]
  },
  {
   "cell_type": "code",
   "execution_count": 27,
   "metadata": {},
   "outputs": [],
   "source": [
    "def distanceTwoPKU(trip1, trip2):\n",
    "    pku_long_rad = trip1.pickup_longitude*np.pi/180\n",
    "    pku_lat_rad = trip1.pickup_latitude*np.pi/180\n",
    "    dpo_long_rad = trip2.pickup_longitude*np.pi/180\n",
    "    dpo_lat_rad = trip2.pickup_latitude*np.pi/180\n",
    "    drad = 2*np.arcsin(np.sqrt(np.sin((pku_lat_rad-dpo_lat_rad)/2)*np.sin((pku_lat_rad-dpo_lat_rad)/2)+np.cos(pku_lat_rad)*np.cos(dpo_lat_rad)*np.sin((pku_long_rad-dpo_long_rad)/2)*np.sin((pku_long_rad-dpo_long_rad)/2)))\n",
    "    dmile = drad*180*60*1.15/np.pi\n",
    "    return dmile"
   ]
  },
  {
   "cell_type": "code",
   "execution_count": 28,
   "metadata": {},
   "outputs": [],
   "source": [
    "#trips_toLGA = trips.loc[(trips['pku_LGA'] > 1.0) & (trips['dpo_LGA'] <= 1.0) & (trips['dpo_time'] >= datetime(2016,5,17,0,0,0)) & (trips['dpo_time'] < datetime(2016,5,18,0,0,0)), :]"
   ]
  },
  {
   "cell_type": "code",
   "execution_count": 44,
   "metadata": {},
   "outputs": [],
   "source": [
    "def build_graph_toLGA(month, date):\n",
    "    trips_toLGA = trips.loc[(trips['pku_LGA'] > 1.0) & (trips['dpo_LGA'] <= 1.0) & (trips['dpo_time'] >= datetime(2016,month,date,0,0,0)) & (trips['dpo_time'] < datetime(2016,month,date+1,0,0,0)), :]\n",
    "    startTime = datetime(2016,month,date,0,0,0)\n",
    "    delta = timedelta(minutes=5)\n",
    "    milesaves_LGA = []\n",
    "    tripsaves_LGA = []\n",
    "    computetimes_LGA = []\n",
    "    # get time when start running\n",
    "    start = datetime.now()\n",
    "    for k in range(0, 288):\n",
    "    #   get current time\n",
    "        current = datetime.now()\n",
    "    #   if pass 5 minutes, exit for loop\n",
    "        if ((current-start)/timedelta(seconds=1)>300):\n",
    "            break\n",
    "        pool = trips_toLGA.loc[(trips_toLGA['dpo_time'] >= startTime + k*delta) & (trips_toLGA['dpo_time'] < startTime + (k+1)*delta),:]\n",
    "        if (len(pool) > 0):\n",
    "            G.clear()\n",
    "            for n in range(len(pool)):\n",
    "                G.add_node(n)\n",
    "            saving = 0.0\n",
    "            starttime = datetime.now()\n",
    "            for i in range(len(pool) - 1):\n",
    "                for j in range(i+1, len(pool)):\n",
    "                    d = distanceTwoPKU(pool.iloc[i], pool.iloc[j])*1.679833796569822\n",
    "                    if (d < pool.iloc[i].trip_distance) or (d < pool.iloc[j].trip_distance):\n",
    "                        tHA = (pool.iloc[i].dpo_time - pool.iloc[i].pku_time)/timedelta(seconds=1)\n",
    "                        tHB = (pool.iloc[j].dpo_time - pool.iloc[j].pku_time)/timedelta(seconds=1)\n",
    "                        delayA = tHA * 0.2\n",
    "                        delayB = tHB * 0.2\n",
    "                        avgSpeed = (pool.iloc[i].avg_speed + pool.iloc[j].avg_speed)/2.0\n",
    "                        tAB = d * 3600 / avgSpeed\n",
    "                        if (pool.iloc[i].pku_time <= pool.iloc[j].pku_time):\n",
    "                            delta_PKU = (pool.iloc[j].pku_time - pool.iloc[i].pku_time)/timedelta(seconds=1)\n",
    "                            if (tAB <= delta_PKU + delayB) and (tAB + tHB <= tHA + delayA):\n",
    "                                saved = pool.iloc[i].trip_distance + pool.iloc[j].trip_distance - d\n",
    "                                G.add_edge(i, j, weight=saved)\n",
    "                        else:\n",
    "                            delta_PKU = (pool.iloc[i].pku_time - pool.iloc[j].pku_time)/timedelta(seconds=1)\n",
    "                            if (tAB <= delta_PKU + delayA) and (tAB + tHA <= tHB + delayB):\n",
    "                                saved = pool.iloc[i].trip_distance + pool.iloc[j].trip_distance - d\n",
    "                                G.add_edge(i, j, weight=saved)\n",
    "            matching = nx.algorithms.matching.max_weight_matching(G, maxcardinality=False, weight='weight')\n",
    "            endtime = datetime.now()\n",
    "            for m in matching:\n",
    "                saving = saving + G.edges[m[0], m[1]]['weight']\n",
    "            milesaves_LGA.append(saving/pool['trip_distance'].sum())\n",
    "            tripsaves_LGA.append(len(matching)/len(pool))\n",
    "            computetimes_LGA.append((endtime-starttime)/timedelta(seconds=1))\n",
    "    print(\"The number of pools get processed in 5 minutes: \", len(milesaves_LGA))\n",
    "    # Average percent of trips saved per pool\n",
    "    valid = []\n",
    "    for trip in tripsaves_LGA:\n",
    "        if trip > 0:\n",
    "            valid.append(trip)\n",
    "    print(\"Average percent of trips saved per pool: \", np.average(valid)*100)"
   ]
  },
  {
   "cell_type": "code",
   "execution_count": 37,
   "metadata": {},
   "outputs": [
    {
     "name": "stdout",
     "output_type": "stream",
     "text": [
      "The number of pools get processed in 5 minutes:  90\n",
      "Average percent of trips saved per pool:  46.954324510633796\n",
      "--- 306.74683713912964 seconds ---\n"
     ]
    }
   ],
   "source": [
    "# Run fromLGA algorithm, paramaters are month, date\n",
    "build_graph_fromLGA(5, 17)"
   ]
  },
  {
   "cell_type": "code",
   "execution_count": 45,
   "metadata": {},
   "outputs": [
    {
     "name": "stdout",
     "output_type": "stream",
     "text": [
      "The number of pools get processed in 5 minutes:  146\n",
      "Average percent of trips saved per pool:  47.50832354501809\n"
     ]
    }
   ],
   "source": [
    "# Run toLGA algorithm, paramaters are month, date\n",
    "build_graph_toLGA(5, 17)"
   ]
  },
  {
   "cell_type": "code",
   "execution_count": null,
   "metadata": {},
   "outputs": [],
   "source": []
  },
  {
   "cell_type": "code",
   "execution_count": null,
   "metadata": {},
   "outputs": [],
   "source": []
  },
  {
   "cell_type": "code",
   "execution_count": null,
   "metadata": {},
   "outputs": [],
   "source": []
  },
  {
   "cell_type": "code",
   "execution_count": null,
   "metadata": {},
   "outputs": [],
   "source": []
  },
  {
   "cell_type": "code",
   "execution_count": null,
   "metadata": {},
   "outputs": [],
   "source": []
  },
  {
   "cell_type": "code",
   "execution_count": null,
   "metadata": {},
   "outputs": [],
   "source": []
  },
  {
   "cell_type": "code",
   "execution_count": null,
   "metadata": {},
   "outputs": [],
   "source": []
  },
  {
   "cell_type": "code",
   "execution_count": null,
   "metadata": {},
   "outputs": [],
   "source": []
  },
  {
   "cell_type": "code",
   "execution_count": null,
   "metadata": {},
   "outputs": [],
   "source": []
  },
  {
   "cell_type": "code",
   "execution_count": null,
   "metadata": {},
   "outputs": [],
   "source": []
  },
  {
   "cell_type": "code",
   "execution_count": null,
   "metadata": {},
   "outputs": [],
   "source": []
  },
  {
   "cell_type": "code",
   "execution_count": null,
   "metadata": {},
   "outputs": [],
   "source": []
  },
  {
   "cell_type": "code",
   "execution_count": null,
   "metadata": {},
   "outputs": [],
   "source": []
  },
  {
   "cell_type": "code",
   "execution_count": null,
   "metadata": {},
   "outputs": [],
   "source": []
  }
 ],
 "metadata": {
  "kernelspec": {
   "display_name": "Python 3",
   "language": "python",
   "name": "python3"
  },
  "language_info": {
   "codemirror_mode": {
    "name": "ipython",
    "version": 3
   },
   "file_extension": ".py",
   "mimetype": "text/x-python",
   "name": "python",
   "nbconvert_exporter": "python",
   "pygments_lexer": "ipython3",
   "version": "3.7.4"
  }
 },
 "nbformat": 4,
 "nbformat_minor": 2
}
